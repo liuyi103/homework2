{
 "metadata": {
  "name": "",
  "signature": "sha256:83de3f60c0eb6da9410959e866d4277edd935e4c34da27e386ebe18a9b53a1a7"
 },
 "nbformat": 3,
 "nbformat_minor": 0,
 "worksheets": [
  {
   "cells": [
    {
     "cell_type": "code",
     "collapsed": false,
     "input": [
      "#from collections import namedtuple\n",
      "#from pandas import DataFrame\n",
      "#import numpy as np\n",
      "\n",
      "#df = DataFrame({'variable_1':np.arange(5),'variable_2':np.arange(5)})\n",
      "a=\"nothing  \"\n"
     ],
     "language": "python",
     "metadata": {},
     "outputs": [],
     "prompt_number": 2
    },
    {
     "cell_type": "raw",
     "metadata": {},
     "source": [
      "$a+c^2$"
     ]
    },
    {
     "cell_type": "code",
     "collapsed": false,
     "input": [],
     "language": "python",
     "metadata": {},
     "outputs": []
    }
   ],
   "metadata": {}
  }
 ]
}