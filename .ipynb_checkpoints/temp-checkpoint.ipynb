{
 "metadata": {
  "name": "",
  "signature": "sha256:1fabfb0828340c05a328c3e8e794306c16e6eec37489cbd2397460c8ad49fe4e"
 },
 "nbformat": 3,
 "nbformat_minor": 0,
 "worksheets": [
  {
   "cells": [
    {
     "cell_type": "code",
     "collapsed": false,
     "input": [
      "#from collections import namedtuple\n",
      "#from pandas import DataFrame\n",
      "#import numpy as np\n",
      "\n",
      "#df = DataFrame({'variable_1':np.arange(5),'variable_2':np.arange(5)})\n",
      "a=\"nothing  \"\n"
     ],
     "language": "python",
     "metadata": {},
     "outputs": [],
     "prompt_number": 2
    },
    {
     "cell_type": "code",
     "collapsed": false,
     "input": [],
     "language": "python",
     "metadata": {},
     "outputs": []
    }
   ],
   "metadata": {}
  }
 ]
}